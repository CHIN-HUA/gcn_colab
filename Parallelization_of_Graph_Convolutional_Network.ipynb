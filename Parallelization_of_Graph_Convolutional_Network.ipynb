{
  "nbformat": 4,
  "nbformat_minor": 0,
  "metadata": {
    "colab": {
      "provenance": [],
      "gpuType": "T4",
      "authorship_tag": "ABX9TyPQjlpgGXdjdr8IsfdFGUac",
      "include_colab_link": true
    },
    "kernelspec": {
      "name": "python3",
      "display_name": "Python 3"
    },
    "language_info": {
      "name": "python"
    },
    "accelerator": "GPU",
    "gpuClass": "standard"
  },
  "cells": [
    {
      "cell_type": "markdown",
      "metadata": {
        "id": "view-in-github",
        "colab_type": "text"
      },
      "source": [
        "<a href=\"https://colab.research.google.com/github/CHIN-HUA/gcn_colab/blob/main/Parallelization_of_Graph_Convolutional_Network.ipynb\" target=\"_parent\"><img src=\"https://colab.research.google.com/assets/colab-badge.svg\" alt=\"Open In Colab\"/></a>"
      ]
    },
    {
      "cell_type": "code",
      "execution_count": null,
      "metadata": {
        "colab": {
          "base_uri": "https://localhost:8080/"
        },
        "id": "hGnP66582INd",
        "outputId": "007aa3b5-007f-4ca0-b144-8aa57b4ccee7"
      },
      "outputs": [
        {
          "output_type": "stream",
          "name": "stdout",
          "text": [
            "bin    cuda\tcuda-11.8  games\t       include\tlib64\t   man\t share\n",
            "colab  cuda-11\tetc\t   _gcs_config_ops.so  lib\tlicensing  sbin  src\n"
          ]
        }
      ],
      "source": [
        "# To show that if there is cuda tookit installed\n",
        "!ls /usr/local"
      ]
    },
    {
      "cell_type": "code",
      "source": [
        "# To show that if there is cuda tookit installed\n",
        "!ls /usr/local"
      ],
      "metadata": {
        "colab": {
          "base_uri": "https://localhost:8080/"
        },
        "id": "Nmu0aDLV2Nb3",
        "outputId": "33f20ad4-41ec-4f13-e41b-c4ab657e1348"
      },
      "execution_count": null,
      "outputs": [
        {
          "output_type": "stream",
          "name": "stdout",
          "text": [
            "bin    cuda\tcuda-11.8  games\t       include\tlib64\t   man\t share\n",
            "colab  cuda-11\tetc\t   _gcs_config_ops.so  lib\tlicensing  sbin  src\n"
          ]
        }
      ]
    },
    {
      "cell_type": "code",
      "source": [
        "# To show the property of the nvidia card(On my one, I use the K80)\n",
        "!nvidia-smi"
      ],
      "metadata": {
        "colab": {
          "base_uri": "https://localhost:8080/"
        },
        "id": "UpnOyBkV2Pho",
        "outputId": "f587784c-fc2c-432e-b075-2446913b0e64"
      },
      "execution_count": null,
      "outputs": [
        {
          "output_type": "stream",
          "name": "stdout",
          "text": [
            "Mon May 15 14:41:50 2023       \n",
            "+-----------------------------------------------------------------------------+\n",
            "| NVIDIA-SMI 525.85.12    Driver Version: 525.85.12    CUDA Version: 12.0     |\n",
            "|-------------------------------+----------------------+----------------------+\n",
            "| GPU  Name        Persistence-M| Bus-Id        Disp.A | Volatile Uncorr. ECC |\n",
            "| Fan  Temp  Perf  Pwr:Usage/Cap|         Memory-Usage | GPU-Util  Compute M. |\n",
            "|                               |                      |               MIG M. |\n",
            "|===============================+======================+======================|\n",
            "|   0  Tesla T4            Off  | 00000000:00:04.0 Off |                    0 |\n",
            "| N/A   50C    P8    10W /  70W |      0MiB / 15360MiB |      0%      Default |\n",
            "|                               |                      |                  N/A |\n",
            "+-------------------------------+----------------------+----------------------+\n",
            "                                                                               \n",
            "+-----------------------------------------------------------------------------+\n",
            "| Processes:                                                                  |\n",
            "|  GPU   GI   CI        PID   Type   Process name                  GPU Memory |\n",
            "|        ID   ID                                                   Usage      |\n",
            "|=============================================================================|\n",
            "|  No running processes found                                                 |\n",
            "+-----------------------------------------------------------------------------+\n"
          ]
        }
      ]
    },
    {
      "cell_type": "code",
      "source": [
        "# Write a cu file contain the host and kernel code\n",
        "%%writefile hello.cu\n",
        "\n",
        "#include <iostream>\n",
        "#include <cuda.h>\n",
        "\n",
        "__global__ void hello(void)\n",
        "{\n",
        "  printf(\"GPU: Hello!\\n\");\n",
        "}\n",
        "int main(int argc,char **argv)\n",
        "{\n",
        "  printf(\"CPU: Hello!\\n\");\n",
        "  hello<<<1,10>>>();\n",
        "  cudaDeviceReset();\n",
        "  return 0;\n",
        "}"
      ],
      "metadata": {
        "colab": {
          "base_uri": "https://localhost:8080/"
        },
        "id": "LxYiEwi96kgc",
        "outputId": "3edaf0b6-c693-4e56-9614-5edb7bff7511"
      },
      "execution_count": null,
      "outputs": [
        {
          "output_type": "stream",
          "name": "stdout",
          "text": [
            "Overwriting hello.cu\n"
          ]
        }
      ]
    },
    {
      "cell_type": "code",
      "source": [
        "!nvcc -Wno-deprecated-gpu-targets hello.cu -o hello\n",
        "\n",
        "!./hello"
      ],
      "metadata": {
        "colab": {
          "base_uri": "https://localhost:8080/"
        },
        "id": "yYwH42En7Awq",
        "outputId": "38b1562e-9c83-4851-da25-d7d5c7d2a35e"
      },
      "execution_count": null,
      "outputs": [
        {
          "output_type": "stream",
          "name": "stdout",
          "text": [
            "CPU: Hello!\n",
            "GPU: Hello!\n",
            "GPU: Hello!\n",
            "GPU: Hello!\n",
            "GPU: Hello!\n",
            "GPU: Hello!\n",
            "GPU: Hello!\n",
            "GPU: Hello!\n",
            "GPU: Hello!\n",
            "GPU: Hello!\n",
            "GPU: Hello!\n"
          ]
        }
      ]
    },
    {
      "cell_type": "code",
      "source": [
        "'''\n",
        "MIT License\n",
        "Copyright (c) 2020 Ronald Seoh\n",
        "Permission is hereby granted, free of charge, to any person obtaining a copy\n",
        "of this software and associated documentation files (the \"Software\"), to deal\n",
        "in the Software without restriction, including without limitation the rights\n",
        "to use, copy, modify, merge, publish, distribute, sublicense, and/or sell\n",
        "copies of the Software, and to permit persons to whom the Software is\n",
        "furnished to do so, subject to the following conditions:\n",
        "The above copyright notice and this permission notice shall be included in all\n",
        "copies or substantial portions of the Software.\n",
        "THE SOFTWARE IS PROVIDED \"AS IS\", WITHOUT WARRANTY OF ANY KIND, EXPRESS OR\n",
        "IMPLIED, INCLUDING BUT NOT LIMITED TO THE WARRANTIES OF MERCHANTABILITY,\n",
        "FITNESS FOR A PARTICULAR PURPOSE AND NONINFRINGEMENT. IN NO EVENT SHALL THE\n",
        "AUTHORS OR COPYRIGHT HOLDERS BE LIABLE FOR ANY CLAIM, DAMAGES OR OTHER\n",
        "LIABILITY, WHETHER IN AN ACTION OF CONTRACT, TORT OR OTHERWISE, ARISING FROM,\n",
        "OUT OF OR IN CONNECTION WITH THE SOFTWARE OR THE USE OR OTHER DEALINGS IN THE\n",
        "SOFTWARE.\n",
        "'''\n",
        "\n",
        "# torch.device / CUDA Setup\n",
        "import torch\n",
        "\n",
        "use_cuda = True\n",
        "use_colab_tpu = False\n",
        "colab_tpu_available = False\n",
        "\n",
        "if use_colab_tpu:\n",
        "    try:\n",
        "        assert os.environ['COLAB_TPU_ADDR']\n",
        "        colab_tpu_available = True\n",
        "    except:\n",
        "        colab_tpu_available = True\n",
        "\n",
        "if use_cuda and torch.cuda.is_available():\n",
        "    torch_device = torch.device('cuda')\n",
        "\n",
        "    # Set this to True to make your output immediately reproducible\n",
        "    # Note: https://pytorch.org/docs/stable/notes/randomness.html\n",
        "    torch.backends.cudnn.deterministic = False\n",
        "    \n",
        "    # Disable 'benchmark' mode: Set this False if you want to measure running times more fairly\n",
        "    # Note: https://discuss.pytorch.org/t/what-does-torch-backends-cudnn-benchmark-do/5936\n",
        "    torch.backends.cudnn.benchmark = True\n",
        "    \n",
        "    # Faster Host to GPU copies with page-locked memory\n",
        "    use_pin_memory = True \n",
        "\n",
        "    # CUDA libraries version information\n",
        "    print(\"CUDA Version: \" + str(torch.version.cuda))\n",
        "    print(\"cuDNN Version: \" + str(torch.backends.cudnn.version()))\n",
        "    print(\"CUDA Device Name: \" + str(torch.cuda.get_device_name()))\n",
        "    print(\"CUDA Capabilities: \"+ str(torch.cuda.get_device_capability()))\n",
        "\n",
        "elif use_colab_tpu and colab_tpu_available:\n",
        "    # This needs to be installed separately\n",
        "    # https://github.com/pytorch/xla/blob/master/contrib/colab/getting-started.ipynb\n",
        "    import torch_xla \n",
        "    import torch_xla.core.xla_model as xm\n",
        "\n",
        "    torch_device = xm.xla_device()\n",
        "\n",
        "else:\n",
        "    torch_device = torch.device('cpu')\n",
        "    use_pin_memory = False"
      ],
      "metadata": {
        "colab": {
          "base_uri": "https://localhost:8080/"
        },
        "id": "JxirNJYl754r",
        "outputId": "d917708f-fc42-4c43-d90d-14cc1dafe719"
      },
      "execution_count": null,
      "outputs": [
        {
          "output_type": "stream",
          "name": "stdout",
          "text": [
            "CUDA Version: 11.8\n",
            "cuDNN Version: 8700\n",
            "CUDA Device Name: Tesla T4\n",
            "CUDA Capabilities: (7, 5)\n"
          ]
        }
      ]
    },
    {
      "cell_type": "code",
      "source": [
        "!git clone https://github.com/hengdashi/cuda_gcn.git"
      ],
      "metadata": {
        "colab": {
          "base_uri": "https://localhost:8080/"
        },
        "id": "TbSpnYZY81FT",
        "outputId": "063d8987-5694-4200-fd02-e6b2dc7b77fe"
      },
      "execution_count": 11,
      "outputs": [
        {
          "output_type": "stream",
          "name": "stdout",
          "text": [
            "fatal: destination path 'cuda_gcn' already exists and is not an empty directory.\n"
          ]
        }
      ]
    },
    {
      "cell_type": "code",
      "source": [
        "!ls ./cuda_gcn/"
      ],
      "metadata": {
        "colab": {
          "base_uri": "https://localhost:8080/"
        },
        "id": "lndgcMHs9oZO",
        "outputId": "4011d79f-4619-4e7e-be75-8b472974f74b"
      },
      "execution_count": 13,
      "outputs": [
        {
          "output_type": "stream",
          "name": "stdout",
          "text": [
            "data.tgz  Makefile  README.md  reddit_preprocess.py  report  src\n"
          ]
        }
      ]
    },
    {
      "cell_type": "code",
      "source": [
        "!ls\n",
        "! ls cuda_gcn\n",
        "! cd cuda_gcn && make cuda"
      ],
      "metadata": {
        "colab": {
          "base_uri": "https://localhost:8080/"
        },
        "id": "USmVhXMYCkCJ",
        "outputId": "67abd781-60a0-4147-f5e9-1f9cf16751a7"
      },
      "execution_count": 22,
      "outputs": [
        {
          "output_type": "stream",
          "name": "stdout",
          "text": [
            "cuda_gcn  sample_data\n",
            "data.tgz  Makefile  README.md  reddit_preprocess.py  report  src\n",
            "nvcc -dc -O3 -std=c++11 -Isrc -Isrc/common -Isrc/seq -Isrc/cuda src/main.cpp -o src/cudamain.o\n",
            "In file included from \u001b[01m\u001b[K/usr/local/cuda/bin/../targets/x86_64-linux/include/thrust/detail/config/config.h:27\u001b[m\u001b[K,\n",
            "                 from \u001b[01m\u001b[K/usr/local/cuda/bin/../targets/x86_64-linux/include/thrust/detail/config.h:23\u001b[m\u001b[K,\n",
            "                 from \u001b[01m\u001b[K/usr/local/cuda/bin/../targets/x86_64-linux/include/thrust/extrema.h:23\u001b[m\u001b[K,\n",
            "                 from \u001b[01m\u001b[Ksrc/cuda/cuda_kernel.cuh:4\u001b[m\u001b[K,\n",
            "                 from \u001b[01m\u001b[Ksrc/cuda/cuda_variable.cuh:4\u001b[m\u001b[K,\n",
            "                 from \u001b[01m\u001b[Ksrc/cuda/cuda_gcn.cuh:5\u001b[m\u001b[K,\n",
            "                 from \u001b[01m\u001b[Ksrc/main.cpp:10\u001b[m\u001b[K:\n",
            "\u001b[01m\u001b[K/usr/local/cuda/bin/../targets/x86_64-linux/include/thrust/detail/config/cpp_dialect.h:131:13:\u001b[m\u001b[K \u001b[01;35m\u001b[Kwarning: \u001b[m\u001b[KThrust requires at least C++14. C++11 is deprecated but still supported. C++11 support will be removed in a future release. Define THRUST_IGNORE_DEPRECATED_CPP_DIALECT to suppress this message.\n",
            "  131 |      THRUST_\u001b[01;35m\u001b[KCOMPILER_DEPRECATION_SOFT(C++14, C++11);\u001b[m\u001b[K\n",
            "      |             \u001b[01;35m\u001b[K^~~~~~~~~~~~~~~~~~~~~~~~~~~~~~~~~~~~~~~~\u001b[m\u001b[K                                                                                                                                                           \n",
            "In file included from \u001b[01m\u001b[K/usr/local/cuda/bin/../targets/x86_64-linux/include/cub/util_arch.cuh:36\u001b[m\u001b[K,\n",
            "                 from \u001b[01m\u001b[K/usr/local/cuda/bin/../targets/x86_64-linux/include/thrust/system/cuda/detail/copy.h:35\u001b[m\u001b[K,\n",
            "                 from \u001b[01m\u001b[K/usr/local/cuda/bin/../targets/x86_64-linux/include/thrust/system/detail/adl/copy.h:42\u001b[m\u001b[K,\n",
            "                 from \u001b[01m\u001b[K/usr/local/cuda/bin/../targets/x86_64-linux/include/thrust/detail/copy.inl:22\u001b[m\u001b[K,\n",
            "                 from \u001b[01m\u001b[K/usr/local/cuda/bin/../targets/x86_64-linux/include/thrust/detail/copy.h:90\u001b[m\u001b[K,\n",
            "                 from \u001b[01m\u001b[K/usr/local/cuda/bin/../targets/x86_64-linux/include/thrust/system/detail/sequential/merge.inl:19\u001b[m\u001b[K,\n",
            "                 from \u001b[01m\u001b[K/usr/local/cuda/bin/../targets/x86_64-linux/include/thrust/system/detail/sequential/merge.h:78\u001b[m\u001b[K,\n",
            "                 from \u001b[01m\u001b[K/usr/local/cuda/bin/../targets/x86_64-linux/include/thrust/system/cpp/detail/merge.h:22\u001b[m\u001b[K,\n",
            "                 from \u001b[01m\u001b[K/usr/local/cuda/bin/../targets/x86_64-linux/include/thrust/system/cpp/execution_policy.h:51\u001b[m\u001b[K,\n",
            "                 from \u001b[01m\u001b[K/usr/local/cuda/bin/../targets/x86_64-linux/include/thrust/execution_policy.h:32\u001b[m\u001b[K,\n",
            "                 from \u001b[01m\u001b[K/usr/local/cuda/bin/../targets/x86_64-linux/include/thrust/detail/get_iterator_value.h:20\u001b[m\u001b[K,\n",
            "                 from \u001b[01m\u001b[K/usr/local/cuda/bin/../targets/x86_64-linux/include/thrust/system/detail/generic/extrema.inl:25\u001b[m\u001b[K,\n",
            "                 from \u001b[01m\u001b[K/usr/local/cuda/bin/../targets/x86_64-linux/include/thrust/system/detail/generic/extrema.h:87\u001b[m\u001b[K,\n",
            "                 from \u001b[01m\u001b[K/usr/local/cuda/bin/../targets/x86_64-linux/include/thrust/detail/extrema.inl:22\u001b[m\u001b[K,\n",
            "                 from \u001b[01m\u001b[K/usr/local/cuda/bin/../targets/x86_64-linux/include/thrust/extrema.h:800\u001b[m\u001b[K,\n",
            "                 from \u001b[01m\u001b[Ksrc/cuda/cuda_kernel.cuh:4\u001b[m\u001b[K,\n",
            "                 from \u001b[01m\u001b[Ksrc/cuda/cuda_variable.cuh:4\u001b[m\u001b[K,\n",
            "                 from \u001b[01m\u001b[Ksrc/cuda/cuda_gcn.cuh:5\u001b[m\u001b[K,\n",
            "                 from \u001b[01m\u001b[Ksrc/main.cpp:10\u001b[m\u001b[K:\n",
            "\u001b[01m\u001b[K/usr/local/cuda/bin/../targets/x86_64-linux/include/cub/util_cpp_dialect.cuh:142:13:\u001b[m\u001b[K \u001b[01;35m\u001b[Kwarning: \u001b[m\u001b[KCUB requires at least C++14. C++11 is deprecated but still supported. C++11 support will be removed in a future release. Define CUB_IGNORE_DEPRECATED_CPP_DIALECT to suppress this message.\n",
            "  142 |      CUB_COM\u001b[01;35m\u001b[KPILER_DEPRECATION_SOFT(C++14, C++11);\u001b[m\u001b[K\n",
            "      |             \u001b[01;35m\u001b[K^~~~~~~~~~~~~~~~~~~~~~~~~~~~~~~~~~~~~\u001b[m\u001b[K                                                                                                                                                        \n",
            "g++ -c -O3 -std=c++11 -Isrc -Isrc/common -Isrc/seq -Isrc/cuda -Wall -Wno-sign-compare -Wno-unused-variable -Wno-unknown-pragmas src/common/parser.cpp -o src/common/parser.o\n",
            "g++ -c -O3 -std=c++11 -Isrc -Isrc/common -Isrc/seq -Isrc/cuda -Wall -Wno-sign-compare -Wno-unused-variable -Wno-unknown-pragmas src/common/timer.cpp -o src/common/timer.o\n",
            "g++ -c -O3 -std=c++11 -Isrc -Isrc/common -Isrc/seq -Isrc/cuda -Wall -Wno-sign-compare -Wno-unused-variable -Wno-unknown-pragmas src/seq/gcn.cpp -o src/seq/gcn.o\n",
            "g++ -c -O3 -std=c++11 -Isrc -Isrc/common -Isrc/seq -Isrc/cuda -Wall -Wno-sign-compare -Wno-unused-variable -Wno-unknown-pragmas src/seq/module.cpp -o src/seq/module.o\n",
            "g++ -c -O3 -std=c++11 -Isrc -Isrc/common -Isrc/seq -Isrc/cuda -Wall -Wno-sign-compare -Wno-unused-variable -Wno-unknown-pragmas src/seq/optim.cpp -o src/seq/optim.o\n",
            "g++ -c -O3 -std=c++11 -Isrc -Isrc/common -Isrc/seq -Isrc/cuda -Wall -Wno-sign-compare -Wno-unused-variable -Wno-unknown-pragmas src/seq/rand.cpp -o src/seq/rand.o\n",
            "g++ -c -O3 -std=c++11 -Isrc -Isrc/common -Isrc/seq -Isrc/cuda -Wall -Wno-sign-compare -Wno-unused-variable -Wno-unknown-pragmas src/seq/sparse.cpp -o src/seq/sparse.o\n",
            "g++ -c -O3 -std=c++11 -Isrc -Isrc/common -Isrc/seq -Isrc/cuda -Wall -Wno-sign-compare -Wno-unused-variable -Wno-unknown-pragmas src/seq/variable.cpp -o src/seq/variable.o\n",
            "nvcc -dc -O3 -std=c++11 -Isrc -Isrc/common -Isrc/seq -Isrc/cuda src/cuda/cuda_gcn.cu -o src/cuda/cuda_gcn.o\n",
            "In file included from \u001b[01m\u001b[K/usr/local/cuda/bin/../targets/x86_64-linux/include/thrust/detail/config/config.h:27\u001b[m\u001b[K,\n",
            "                 from \u001b[01m\u001b[K/usr/local/cuda/bin/../targets/x86_64-linux/include/thrust/detail/config.h:23\u001b[m\u001b[K,\n",
            "                 from \u001b[01m\u001b[K/usr/local/cuda/bin/../targets/x86_64-linux/include/thrust/extrema.h:23\u001b[m\u001b[K,\n",
            "                 from \u001b[01m\u001b[Ksrc/cuda/cuda_kernel.cuh:4\u001b[m\u001b[K,\n",
            "                 from \u001b[01m\u001b[Ksrc/cuda/cuda_variable.cuh:4\u001b[m\u001b[K,\n",
            "                 from \u001b[01m\u001b[Ksrc/cuda/cuda_gcn.cuh:5\u001b[m\u001b[K,\n",
            "                 from \u001b[01m\u001b[Ksrc/cuda/cuda_gcn.cu:1\u001b[m\u001b[K:\n",
            "\u001b[01m\u001b[K/usr/local/cuda/bin/../targets/x86_64-linux/include/thrust/detail/config/cpp_dialect.h:131:13:\u001b[m\u001b[K \u001b[01;35m\u001b[Kwarning: \u001b[m\u001b[KThrust requires at least C++14. C++11 is deprecated but still supported. C++11 support will be removed in a future release. Define THRUST_IGNORE_DEPRECATED_CPP_DIALECT to suppress this message.\n",
            "  131 |      THRUST_\u001b[01;35m\u001b[KCOMPILER_DEPRECATION_SOFT(C++14, C++11);\u001b[m\u001b[K\n",
            "      |             \u001b[01;35m\u001b[K^~~~~~~~~~~~~~~~~~~~~~~~~~~~~~~~~~~~~~~~\u001b[m\u001b[K                                                                                                                                                           \n",
            "In file included from \u001b[01m\u001b[K/usr/local/cuda/bin/../targets/x86_64-linux/include/cub/util_arch.cuh:36\u001b[m\u001b[K,\n",
            "                 from \u001b[01m\u001b[K/usr/local/cuda/bin/../targets/x86_64-linux/include/cub/detail/device_synchronize.cuh:20\u001b[m\u001b[K,\n",
            "                 from \u001b[01m\u001b[K/usr/local/cuda/bin/../targets/x86_64-linux/include/thrust/system/cuda/detail/util.h:36\u001b[m\u001b[K,\n",
            "                 from \u001b[01m\u001b[K/usr/local/cuda/bin/../targets/x86_64-linux/include/thrust/system/cuda/detail/for_each.h:35\u001b[m\u001b[K,\n",
            "                 from \u001b[01m\u001b[K/usr/local/cuda/bin/../targets/x86_64-linux/include/thrust/system/detail/adl/for_each.h:42\u001b[m\u001b[K,\n",
            "                 from \u001b[01m\u001b[K/usr/local/cuda/bin/../targets/x86_64-linux/include/thrust/detail/for_each.inl:27\u001b[m\u001b[K,\n",
            "                 from \u001b[01m\u001b[K/usr/local/cuda/bin/../targets/x86_64-linux/include/thrust/for_each.h:277\u001b[m\u001b[K,\n",
            "                 from \u001b[01m\u001b[K/usr/local/cuda/bin/../targets/x86_64-linux/include/thrust/system/detail/generic/transform.inl:19\u001b[m\u001b[K,\n",
            "                 from \u001b[01m\u001b[K/usr/local/cuda/bin/../targets/x86_64-linux/include/thrust/system/detail/generic/transform.h:104\u001b[m\u001b[K,\n",
            "                 from \u001b[01m\u001b[K/usr/local/cuda/bin/../targets/x86_64-linux/include/thrust/detail/transform.inl:27\u001b[m\u001b[K,\n",
            "                 from \u001b[01m\u001b[K/usr/local/cuda/bin/../targets/x86_64-linux/include/thrust/transform.h:721\u001b[m\u001b[K,\n",
            "                 from \u001b[01m\u001b[K/usr/local/cuda/bin/../targets/x86_64-linux/include/thrust/system/detail/generic/copy.inl:23\u001b[m\u001b[K,\n",
            "                 from \u001b[01m\u001b[K/usr/local/cuda/bin/../targets/x86_64-linux/include/thrust/system/detail/generic/copy.h:57\u001b[m\u001b[K,\n",
            "                 from \u001b[01m\u001b[K/usr/local/cuda/bin/../targets/x86_64-linux/include/thrust/detail/copy.inl:21\u001b[m\u001b[K,\n",
            "                 from \u001b[01m\u001b[K/usr/local/cuda/bin/../targets/x86_64-linux/include/thrust/detail/copy.h:90\u001b[m\u001b[K,\n",
            "                 from \u001b[01m\u001b[K/usr/local/cuda/bin/../targets/x86_64-linux/include/thrust/system/detail/sequential/merge.inl:19\u001b[m\u001b[K,\n",
            "                 from \u001b[01m\u001b[K/usr/local/cuda/bin/../targets/x86_64-linux/include/thrust/system/detail/sequential/merge.h:78\u001b[m\u001b[K,\n",
            "                 from \u001b[01m\u001b[K/usr/local/cuda/bin/../targets/x86_64-linux/include/thrust/system/cpp/detail/merge.h:22\u001b[m\u001b[K,\n",
            "                 from \u001b[01m\u001b[K/usr/local/cuda/bin/../targets/x86_64-linux/include/thrust/system/cpp/execution_policy.h:51\u001b[m\u001b[K,\n",
            "                 from \u001b[01m\u001b[K/usr/local/cuda/bin/../targets/x86_64-linux/include/thrust/execution_policy.h:32\u001b[m\u001b[K,\n",
            "                 from \u001b[01m\u001b[K/usr/local/cuda/bin/../targets/x86_64-linux/include/thrust/detail/get_iterator_value.h:20\u001b[m\u001b[K,\n",
            "                 from \u001b[01m\u001b[K/usr/local/cuda/bin/../targets/x86_64-linux/include/thrust/system/detail/generic/extrema.inl:25\u001b[m\u001b[K,\n",
            "                 from \u001b[01m\u001b[K/usr/local/cuda/bin/../targets/x86_64-linux/include/thrust/system/detail/generic/extrema.h:87\u001b[m\u001b[K,\n",
            "                 from \u001b[01m\u001b[K/usr/local/cuda/bin/../targets/x86_64-linux/include/thrust/detail/extrema.inl:22\u001b[m\u001b[K,\n",
            "                 from \u001b[01m\u001b[K/usr/local/cuda/bin/../targets/x86_64-linux/include/thrust/extrema.h:800\u001b[m\u001b[K,\n",
            "                 from \u001b[01m\u001b[Ksrc/cuda/cuda_kernel.cuh:4\u001b[m\u001b[K,\n",
            "                 from \u001b[01m\u001b[Ksrc/cuda/cuda_variable.cuh:4\u001b[m\u001b[K,\n",
            "                 from \u001b[01m\u001b[Ksrc/cuda/cuda_gcn.cuh:5\u001b[m\u001b[K,\n",
            "                 from \u001b[01m\u001b[Ksrc/cuda/cuda_gcn.cu:1\u001b[m\u001b[K:\n",
            "\u001b[01m\u001b[K/usr/local/cuda/bin/../targets/x86_64-linux/include/cub/util_cpp_dialect.cuh:142:13:\u001b[m\u001b[K \u001b[01;35m\u001b[Kwarning: \u001b[m\u001b[KCUB requires at least C++14. C++11 is deprecated but still supported. C++11 support will be removed in a future release. Define CUB_IGNORE_DEPRECATED_CPP_DIALECT to suppress this message.\n",
            "  142 |      CUB_COM\u001b[01;35m\u001b[KPILER_DEPRECATION_SOFT(C++14, C++11);\u001b[m\u001b[K\n",
            "      |             \u001b[01;35m\u001b[K^~~~~~~~~~~~~~~~~~~~~~~~~~~~~~~~~~~~~\u001b[m\u001b[K                                                                                                                                                        \n",
            "In file included from \u001b[01m\u001b[K/usr/local/cuda/bin/../targets/x86_64-linux/include/thrust/detail/config/config.h:27\u001b[m\u001b[K,\n",
            "                 from \u001b[01m\u001b[K/usr/local/cuda/bin/../targets/x86_64-linux/include/thrust/detail/config.h:23\u001b[m\u001b[K,\n",
            "                 from \u001b[01m\u001b[K/usr/local/cuda/bin/../targets/x86_64-linux/include/thrust/extrema.h:23\u001b[m\u001b[K,\n",
            "                 from \u001b[01m\u001b[Ksrc/cuda/cuda_kernel.cuh:4\u001b[m\u001b[K,\n",
            "                 from \u001b[01m\u001b[Ksrc/cuda/cuda_variable.cuh:4\u001b[m\u001b[K,\n",
            "                 from \u001b[01m\u001b[Ksrc/cuda/cuda_gcn.cuh:5\u001b[m\u001b[K,\n",
            "                 from \u001b[01m\u001b[Ksrc/cuda/cuda_gcn.cu:1\u001b[m\u001b[K:\n",
            "\u001b[01m\u001b[K/usr/local/cuda/bin/../targets/x86_64-linux/include/thrust/detail/config/cpp_dialect.h:131:13:\u001b[m\u001b[K \u001b[01;35m\u001b[Kwarning: \u001b[m\u001b[KThrust requires at least C++14. C++11 is deprecated but still supported. C++11 support will be removed in a future release. Define THRUST_IGNORE_DEPRECATED_CPP_DIALECT to suppress this message.\n",
            "  131 |      THRUST_\u001b[01;35m\u001b[KCOMPILER_DEPRECATION_SOFT(C++14, C++11);\u001b[m\u001b[K\n",
            "      |             \u001b[01;35m\u001b[K^~~~~~~~~~~~~~~~~~~~~~~~~~~~~~~~~~~~~~~~\u001b[m\u001b[K                                                                                                                                                           \n",
            "In file included from \u001b[01m\u001b[K/usr/local/cuda/bin/../targets/x86_64-linux/include/cub/util_arch.cuh:36\u001b[m\u001b[K,\n",
            "                 from \u001b[01m\u001b[K/usr/local/cuda/bin/../targets/x86_64-linux/include/cub/detail/device_synchronize.cuh:20\u001b[m\u001b[K,\n",
            "                 from \u001b[01m\u001b[K/usr/local/cuda/bin/../targets/x86_64-linux/include/thrust/system/cuda/detail/util.h:36\u001b[m\u001b[K,\n",
            "                 from \u001b[01m\u001b[K/usr/local/cuda/bin/../targets/x86_64-linux/include/thrust/system/cuda/detail/for_each.h:35\u001b[m\u001b[K,\n",
            "                 from \u001b[01m\u001b[K/usr/local/cuda/bin/../targets/x86_64-linux/include/thrust/system/detail/adl/for_each.h:42\u001b[m\u001b[K,\n",
            "                 from \u001b[01m\u001b[K/usr/local/cuda/bin/../targets/x86_64-linux/include/thrust/detail/for_each.inl:27\u001b[m\u001b[K,\n",
            "                 from \u001b[01m\u001b[K/usr/local/cuda/bin/../targets/x86_64-linux/include/thrust/for_each.h:277\u001b[m\u001b[K,\n",
            "                 from \u001b[01m\u001b[K/usr/local/cuda/bin/../targets/x86_64-linux/include/thrust/system/detail/generic/transform.inl:19\u001b[m\u001b[K,\n",
            "                 from \u001b[01m\u001b[K/usr/local/cuda/bin/../targets/x86_64-linux/include/thrust/system/detail/generic/transform.h:104\u001b[m\u001b[K,\n",
            "                 from \u001b[01m\u001b[K/usr/local/cuda/bin/../targets/x86_64-linux/include/thrust/detail/transform.inl:27\u001b[m\u001b[K,\n",
            "                 from \u001b[01m\u001b[K/usr/local/cuda/bin/../targets/x86_64-linux/include/thrust/transform.h:721\u001b[m\u001b[K,\n",
            "                 from \u001b[01m\u001b[K/usr/local/cuda/bin/../targets/x86_64-linux/include/thrust/system/detail/generic/copy.inl:23\u001b[m\u001b[K,\n",
            "                 from \u001b[01m\u001b[K/usr/local/cuda/bin/../targets/x86_64-linux/include/thrust/system/detail/generic/copy.h:57\u001b[m\u001b[K,\n",
            "                 from \u001b[01m\u001b[K/usr/local/cuda/bin/../targets/x86_64-linux/include/thrust/detail/copy.inl:21\u001b[m\u001b[K,\n",
            "                 from \u001b[01m\u001b[K/usr/local/cuda/bin/../targets/x86_64-linux/include/thrust/detail/copy.h:90\u001b[m\u001b[K,\n",
            "                 from \u001b[01m\u001b[K/usr/local/cuda/bin/../targets/x86_64-linux/include/thrust/system/detail/sequential/merge.inl:19\u001b[m\u001b[K,\n",
            "                 from \u001b[01m\u001b[K/usr/local/cuda/bin/../targets/x86_64-linux/include/thrust/system/detail/sequential/merge.h:78\u001b[m\u001b[K,\n",
            "                 from \u001b[01m\u001b[K/usr/local/cuda/bin/../targets/x86_64-linux/include/thrust/system/cpp/detail/merge.h:22\u001b[m\u001b[K,\n",
            "                 from \u001b[01m\u001b[K/usr/local/cuda/bin/../targets/x86_64-linux/include/thrust/system/cpp/execution_policy.h:51\u001b[m\u001b[K,\n",
            "                 from \u001b[01m\u001b[K/usr/local/cuda/bin/../targets/x86_64-linux/include/thrust/execution_policy.h:32\u001b[m\u001b[K,\n",
            "                 from \u001b[01m\u001b[K/usr/local/cuda/bin/../targets/x86_64-linux/include/thrust/detail/get_iterator_value.h:20\u001b[m\u001b[K,\n",
            "                 from \u001b[01m\u001b[K/usr/local/cuda/bin/../targets/x86_64-linux/include/thrust/system/detail/generic/extrema.inl:25\u001b[m\u001b[K,\n",
            "                 from \u001b[01m\u001b[K/usr/local/cuda/bin/../targets/x86_64-linux/include/thrust/system/detail/generic/extrema.h:87\u001b[m\u001b[K,\n",
            "                 from \u001b[01m\u001b[K/usr/local/cuda/bin/../targets/x86_64-linux/include/thrust/detail/extrema.inl:22\u001b[m\u001b[K,\n",
            "                 from \u001b[01m\u001b[K/usr/local/cuda/bin/../targets/x86_64-linux/include/thrust/extrema.h:800\u001b[m\u001b[K,\n",
            "                 from \u001b[01m\u001b[Ksrc/cuda/cuda_kernel.cuh:4\u001b[m\u001b[K,\n",
            "                 from \u001b[01m\u001b[Ksrc/cuda/cuda_variable.cuh:4\u001b[m\u001b[K,\n",
            "                 from \u001b[01m\u001b[Ksrc/cuda/cuda_gcn.cuh:5\u001b[m\u001b[K,\n",
            "                 from \u001b[01m\u001b[Ksrc/cuda/cuda_gcn.cu:1\u001b[m\u001b[K:\n",
            "\u001b[01m\u001b[K/usr/local/cuda/bin/../targets/x86_64-linux/include/cub/util_cpp_dialect.cuh:142:13:\u001b[m\u001b[K \u001b[01;35m\u001b[Kwarning: \u001b[m\u001b[KCUB requires at least C++14. C++11 is deprecated but still supported. C++11 support will be removed in a future release. Define CUB_IGNORE_DEPRECATED_CPP_DIALECT to suppress this message.\n",
            "  142 |      CUB_COM\u001b[01;35m\u001b[KPILER_DEPRECATION_SOFT(C++14, C++11);\u001b[m\u001b[K\n",
            "      |             \u001b[01;35m\u001b[K^~~~~~~~~~~~~~~~~~~~~~~~~~~~~~~~~~~~~\u001b[m\u001b[K                                                                                                                                                        \n",
            "nvcc -dc -O3 -std=c++11 -Isrc -Isrc/common -Isrc/seq -Isrc/cuda src/cuda/cuda_kernel.cu -o src/cuda/cuda_kernel.o\n",
            "In file included from \u001b[01m\u001b[K/usr/local/cuda/bin/../targets/x86_64-linux/include/thrust/detail/config/config.h:27\u001b[m\u001b[K,\n",
            "                 from \u001b[01m\u001b[K/usr/local/cuda/bin/../targets/x86_64-linux/include/thrust/detail/config.h:23\u001b[m\u001b[K,\n",
            "                 from \u001b[01m\u001b[K/usr/local/cuda/bin/../targets/x86_64-linux/include/thrust/extrema.h:23\u001b[m\u001b[K,\n",
            "                 from \u001b[01m\u001b[Ksrc/cuda/cuda_kernel.cuh:4\u001b[m\u001b[K,\n",
            "                 from \u001b[01m\u001b[Ksrc/cuda/cuda_kernel.cu:1\u001b[m\u001b[K:\n",
            "\u001b[01m\u001b[K/usr/local/cuda/bin/../targets/x86_64-linux/include/thrust/detail/config/cpp_dialect.h:131:13:\u001b[m\u001b[K \u001b[01;35m\u001b[Kwarning: \u001b[m\u001b[KThrust requires at least C++14. C++11 is deprecated but still supported. C++11 support will be removed in a future release. Define THRUST_IGNORE_DEPRECATED_CPP_DIALECT to suppress this message.\n",
            "  131 |      THRUST_\u001b[01;35m\u001b[KCOMPILER_DEPRECATION_SOFT(C++14, C++11);\u001b[m\u001b[K\n",
            "      |             \u001b[01;35m\u001b[K^~~~~~~~~~~~~~~~~~~~~~~~~~~~~~~~~~~~~~~~\u001b[m\u001b[K                                                                                                                                                           \n",
            "In file included from \u001b[01m\u001b[K/usr/local/cuda/bin/../targets/x86_64-linux/include/cub/util_arch.cuh:36\u001b[m\u001b[K,\n",
            "                 from \u001b[01m\u001b[K/usr/local/cuda/bin/../targets/x86_64-linux/include/cub/detail/device_synchronize.cuh:20\u001b[m\u001b[K,\n",
            "                 from \u001b[01m\u001b[K/usr/local/cuda/bin/../targets/x86_64-linux/include/thrust/system/cuda/detail/util.h:36\u001b[m\u001b[K,\n",
            "                 from \u001b[01m\u001b[K/usr/local/cuda/bin/../targets/x86_64-linux/include/thrust/system/cuda/detail/for_each.h:35\u001b[m\u001b[K,\n",
            "                 from \u001b[01m\u001b[K/usr/local/cuda/bin/../targets/x86_64-linux/include/thrust/system/detail/adl/for_each.h:42\u001b[m\u001b[K,\n",
            "                 from \u001b[01m\u001b[K/usr/local/cuda/bin/../targets/x86_64-linux/include/thrust/detail/for_each.inl:27\u001b[m\u001b[K,\n",
            "                 from \u001b[01m\u001b[K/usr/local/cuda/bin/../targets/x86_64-linux/include/thrust/for_each.h:277\u001b[m\u001b[K,\n",
            "                 from \u001b[01m\u001b[K/usr/local/cuda/bin/../targets/x86_64-linux/include/thrust/system/detail/generic/transform.inl:19\u001b[m\u001b[K,\n",
            "                 from \u001b[01m\u001b[K/usr/local/cuda/bin/../targets/x86_64-linux/include/thrust/system/detail/generic/transform.h:104\u001b[m\u001b[K,\n",
            "                 from \u001b[01m\u001b[K/usr/local/cuda/bin/../targets/x86_64-linux/include/thrust/detail/transform.inl:27\u001b[m\u001b[K,\n",
            "                 from \u001b[01m\u001b[K/usr/local/cuda/bin/../targets/x86_64-linux/include/thrust/transform.h:721\u001b[m\u001b[K,\n",
            "                 from \u001b[01m\u001b[K/usr/local/cuda/bin/../targets/x86_64-linux/include/thrust/system/detail/generic/copy.inl:23\u001b[m\u001b[K,\n",
            "                 from \u001b[01m\u001b[K/usr/local/cuda/bin/../targets/x86_64-linux/include/thrust/system/detail/generic/copy.h:57\u001b[m\u001b[K,\n",
            "                 from \u001b[01m\u001b[K/usr/local/cuda/bin/../targets/x86_64-linux/include/thrust/detail/copy.inl:21\u001b[m\u001b[K,\n",
            "                 from \u001b[01m\u001b[K/usr/local/cuda/bin/../targets/x86_64-linux/include/thrust/detail/copy.h:90\u001b[m\u001b[K,\n",
            "                 from \u001b[01m\u001b[K/usr/local/cuda/bin/../targets/x86_64-linux/include/thrust/system/detail/sequential/merge.inl:19\u001b[m\u001b[K,\n",
            "                 from \u001b[01m\u001b[K/usr/local/cuda/bin/../targets/x86_64-linux/include/thrust/system/detail/sequential/merge.h:78\u001b[m\u001b[K,\n",
            "                 from \u001b[01m\u001b[K/usr/local/cuda/bin/../targets/x86_64-linux/include/thrust/system/cpp/detail/merge.h:22\u001b[m\u001b[K,\n",
            "                 from \u001b[01m\u001b[K/usr/local/cuda/bin/../targets/x86_64-linux/include/thrust/system/cpp/execution_policy.h:51\u001b[m\u001b[K,\n",
            "                 from \u001b[01m\u001b[K/usr/local/cuda/bin/../targets/x86_64-linux/include/thrust/execution_policy.h:32\u001b[m\u001b[K,\n",
            "                 from \u001b[01m\u001b[K/usr/local/cuda/bin/../targets/x86_64-linux/include/thrust/detail/get_iterator_value.h:20\u001b[m\u001b[K,\n",
            "                 from \u001b[01m\u001b[K/usr/local/cuda/bin/../targets/x86_64-linux/include/thrust/system/detail/generic/extrema.inl:25\u001b[m\u001b[K,\n",
            "                 from \u001b[01m\u001b[K/usr/local/cuda/bin/../targets/x86_64-linux/include/thrust/system/detail/generic/extrema.h:87\u001b[m\u001b[K,\n",
            "                 from \u001b[01m\u001b[K/usr/local/cuda/bin/../targets/x86_64-linux/include/thrust/detail/extrema.inl:22\u001b[m\u001b[K,\n",
            "                 from \u001b[01m\u001b[K/usr/local/cuda/bin/../targets/x86_64-linux/include/thrust/extrema.h:800\u001b[m\u001b[K,\n",
            "                 from \u001b[01m\u001b[Ksrc/cuda/cuda_kernel.cuh:4\u001b[m\u001b[K,\n",
            "                 from \u001b[01m\u001b[Ksrc/cuda/cuda_kernel.cu:1\u001b[m\u001b[K:\n",
            "\u001b[01m\u001b[K/usr/local/cuda/bin/../targets/x86_64-linux/include/cub/util_cpp_dialect.cuh:142:13:\u001b[m\u001b[K \u001b[01;35m\u001b[Kwarning: \u001b[m\u001b[KCUB requires at least C++14. C++11 is deprecated but still supported. C++11 support will be removed in a future release. Define CUB_IGNORE_DEPRECATED_CPP_DIALECT to suppress this message.\n",
            "  142 |      CUB_COM\u001b[01;35m\u001b[KPILER_DEPRECATION_SOFT(C++14, C++11);\u001b[m\u001b[K\n",
            "      |             \u001b[01;35m\u001b[K^~~~~~~~~~~~~~~~~~~~~~~~~~~~~~~~~~~~~\u001b[m\u001b[K                                                                                                                                                        \n",
            "In file included from \u001b[01m\u001b[K/usr/local/cuda/bin/../targets/x86_64-linux/include/thrust/detail/config/config.h:27\u001b[m\u001b[K,\n",
            "                 from \u001b[01m\u001b[K/usr/local/cuda/bin/../targets/x86_64-linux/include/thrust/detail/config.h:23\u001b[m\u001b[K,\n",
            "                 from \u001b[01m\u001b[K/usr/local/cuda/bin/../targets/x86_64-linux/include/thrust/extrema.h:23\u001b[m\u001b[K,\n",
            "                 from \u001b[01m\u001b[Ksrc/cuda/cuda_kernel.cuh:4\u001b[m\u001b[K,\n",
            "                 from \u001b[01m\u001b[Ksrc/cuda/cuda_kernel.cu:1\u001b[m\u001b[K:\n",
            "\u001b[01m\u001b[K/usr/local/cuda/bin/../targets/x86_64-linux/include/thrust/detail/config/cpp_dialect.h:131:13:\u001b[m\u001b[K \u001b[01;35m\u001b[Kwarning: \u001b[m\u001b[KThrust requires at least C++14. C++11 is deprecated but still supported. C++11 support will be removed in a future release. Define THRUST_IGNORE_DEPRECATED_CPP_DIALECT to suppress this message.\n",
            "  131 |      THRUST_\u001b[01;35m\u001b[KCOMPILER_DEPRECATION_SOFT(C++14, C++11);\u001b[m\u001b[K\n",
            "      |             \u001b[01;35m\u001b[K^~~~~~~~~~~~~~~~~~~~~~~~~~~~~~~~~~~~~~~~\u001b[m\u001b[K                                                                                                                                                           \n",
            "In file included from \u001b[01m\u001b[K/usr/local/cuda/bin/../targets/x86_64-linux/include/cub/util_arch.cuh:36\u001b[m\u001b[K,\n",
            "                 from \u001b[01m\u001b[K/usr/local/cuda/bin/../targets/x86_64-linux/include/cub/detail/device_synchronize.cuh:20\u001b[m\u001b[K,\n",
            "                 from \u001b[01m\u001b[K/usr/local/cuda/bin/../targets/x86_64-linux/include/thrust/system/cuda/detail/util.h:36\u001b[m\u001b[K,\n",
            "                 from \u001b[01m\u001b[K/usr/local/cuda/bin/../targets/x86_64-linux/include/thrust/system/cuda/detail/for_each.h:35\u001b[m\u001b[K,\n",
            "                 from \u001b[01m\u001b[K/usr/local/cuda/bin/../targets/x86_64-linux/include/thrust/system/detail/adl/for_each.h:42\u001b[m\u001b[K,\n",
            "                 from \u001b[01m\u001b[K/usr/local/cuda/bin/../targets/x86_64-linux/include/thrust/detail/for_each.inl:27\u001b[m\u001b[K,\n",
            "                 from \u001b[01m\u001b[K/usr/local/cuda/bin/../targets/x86_64-linux/include/thrust/for_each.h:277\u001b[m\u001b[K,\n",
            "                 from \u001b[01m\u001b[K/usr/local/cuda/bin/../targets/x86_64-linux/include/thrust/system/detail/generic/transform.inl:19\u001b[m\u001b[K,\n",
            "                 from \u001b[01m\u001b[K/usr/local/cuda/bin/../targets/x86_64-linux/include/thrust/system/detail/generic/transform.h:104\u001b[m\u001b[K,\n",
            "                 from \u001b[01m\u001b[K/usr/local/cuda/bin/../targets/x86_64-linux/include/thrust/detail/transform.inl:27\u001b[m\u001b[K,\n",
            "                 from \u001b[01m\u001b[K/usr/local/cuda/bin/../targets/x86_64-linux/include/thrust/transform.h:721\u001b[m\u001b[K,\n",
            "                 from \u001b[01m\u001b[K/usr/local/cuda/bin/../targets/x86_64-linux/include/thrust/system/detail/generic/copy.inl:23\u001b[m\u001b[K,\n",
            "                 from \u001b[01m\u001b[K/usr/local/cuda/bin/../targets/x86_64-linux/include/thrust/system/detail/generic/copy.h:57\u001b[m\u001b[K,\n",
            "                 from \u001b[01m\u001b[K/usr/local/cuda/bin/../targets/x86_64-linux/include/thrust/detail/copy.inl:21\u001b[m\u001b[K,\n",
            "                 from \u001b[01m\u001b[K/usr/local/cuda/bin/../targets/x86_64-linux/include/thrust/detail/copy.h:90\u001b[m\u001b[K,\n",
            "                 from \u001b[01m\u001b[K/usr/local/cuda/bin/../targets/x86_64-linux/include/thrust/system/detail/sequential/merge.inl:19\u001b[m\u001b[K,\n",
            "                 from \u001b[01m\u001b[K/usr/local/cuda/bin/../targets/x86_64-linux/include/thrust/system/detail/sequential/merge.h:78\u001b[m\u001b[K,\n",
            "                 from \u001b[01m\u001b[K/usr/local/cuda/bin/../targets/x86_64-linux/include/thrust/system/cpp/detail/merge.h:22\u001b[m\u001b[K,\n",
            "                 from \u001b[01m\u001b[K/usr/local/cuda/bin/../targets/x86_64-linux/include/thrust/system/cpp/execution_policy.h:51\u001b[m\u001b[K,\n",
            "                 from \u001b[01m\u001b[K/usr/local/cuda/bin/../targets/x86_64-linux/include/thrust/execution_policy.h:32\u001b[m\u001b[K,\n",
            "                 from \u001b[01m\u001b[K/usr/local/cuda/bin/../targets/x86_64-linux/include/thrust/detail/get_iterator_value.h:20\u001b[m\u001b[K,\n",
            "                 from \u001b[01m\u001b[K/usr/local/cuda/bin/../targets/x86_64-linux/include/thrust/system/detail/generic/extrema.inl:25\u001b[m\u001b[K,\n",
            "                 from \u001b[01m\u001b[K/usr/local/cuda/bin/../targets/x86_64-linux/include/thrust/system/detail/generic/extrema.h:87\u001b[m\u001b[K,\n",
            "                 from \u001b[01m\u001b[K/usr/local/cuda/bin/../targets/x86_64-linux/include/thrust/detail/extrema.inl:22\u001b[m\u001b[K,\n",
            "                 from \u001b[01m\u001b[K/usr/local/cuda/bin/../targets/x86_64-linux/include/thrust/extrema.h:800\u001b[m\u001b[K,\n",
            "                 from \u001b[01m\u001b[Ksrc/cuda/cuda_kernel.cuh:4\u001b[m\u001b[K,\n",
            "                 from \u001b[01m\u001b[Ksrc/cuda/cuda_kernel.cu:1\u001b[m\u001b[K:\n",
            "\u001b[01m\u001b[K/usr/local/cuda/bin/../targets/x86_64-linux/include/cub/util_cpp_dialect.cuh:142:13:\u001b[m\u001b[K \u001b[01;35m\u001b[Kwarning: \u001b[m\u001b[KCUB requires at least C++14. C++11 is deprecated but still supported. C++11 support will be removed in a future release. Define CUB_IGNORE_DEPRECATED_CPP_DIALECT to suppress this message.\n",
            "  142 |      CUB_COM\u001b[01;35m\u001b[KPILER_DEPRECATION_SOFT(C++14, C++11);\u001b[m\u001b[K\n",
            "      |             \u001b[01;35m\u001b[K^~~~~~~~~~~~~~~~~~~~~~~~~~~~~~~~~~~~~\u001b[m\u001b[K                                                                                                                                                        \n",
            "nvcc -dc -O3 -std=c++11 -Isrc -Isrc/common -Isrc/seq -Isrc/cuda src/cuda/cuda_module.cu -o src/cuda/cuda_module.o\n",
            "In file included from \u001b[01m\u001b[K/usr/local/cuda/bin/../targets/x86_64-linux/include/thrust/detail/config/config.h:27\u001b[m\u001b[K,\n",
            "                 from \u001b[01m\u001b[K/usr/local/cuda/bin/../targets/x86_64-linux/include/thrust/detail/config.h:23\u001b[m\u001b[K,\n",
            "                 from \u001b[01m\u001b[K/usr/local/cuda/bin/../targets/x86_64-linux/include/thrust/extrema.h:23\u001b[m\u001b[K,\n",
            "                 from \u001b[01m\u001b[Ksrc/cuda/cuda_kernel.cuh:4\u001b[m\u001b[K,\n",
            "                 from \u001b[01m\u001b[Ksrc/cuda/cuda_module.cuh:5\u001b[m\u001b[K,\n",
            "                 from \u001b[01m\u001b[Ksrc/cuda/cuda_module.cu:1\u001b[m\u001b[K:\n",
            "\u001b[01m\u001b[K/usr/local/cuda/bin/../targets/x86_64-linux/include/thrust/detail/config/cpp_dialect.h:131:13:\u001b[m\u001b[K \u001b[01;35m\u001b[Kwarning: \u001b[m\u001b[KThrust requires at least C++14. C++11 is deprecated but still supported. C++11 support will be removed in a future release. Define THRUST_IGNORE_DEPRECATED_CPP_DIALECT to suppress this message.\n",
            "  131 |      THRUST_\u001b[01;35m\u001b[KCOMPILER_DEPRECATION_SOFT(C++14, C++11);\u001b[m\u001b[K\n",
            "      |             \u001b[01;35m\u001b[K^~~~~~~~~~~~~~~~~~~~~~~~~~~~~~~~~~~~~~~~\u001b[m\u001b[K                                                                                                                                                           \n",
            "In file included from \u001b[01m\u001b[K/usr/local/cuda/bin/../targets/x86_64-linux/include/cub/util_arch.cuh:36\u001b[m\u001b[K,\n",
            "                 from \u001b[01m\u001b[K/usr/local/cuda/bin/../targets/x86_64-linux/include/cub/detail/device_synchronize.cuh:20\u001b[m\u001b[K,\n",
            "                 from \u001b[01m\u001b[K/usr/local/cuda/bin/../targets/x86_64-linux/include/thrust/system/cuda/detail/util.h:36\u001b[m\u001b[K,\n",
            "                 from \u001b[01m\u001b[K/usr/local/cuda/bin/../targets/x86_64-linux/include/thrust/system/cuda/detail/for_each.h:35\u001b[m\u001b[K,\n",
            "                 from \u001b[01m\u001b[K/usr/local/cuda/bin/../targets/x86_64-linux/include/thrust/system/detail/adl/for_each.h:42\u001b[m\u001b[K,\n",
            "                 from \u001b[01m\u001b[K/usr/local/cuda/bin/../targets/x86_64-linux/include/thrust/detail/for_each.inl:27\u001b[m\u001b[K,\n",
            "                 from \u001b[01m\u001b[K/usr/local/cuda/bin/../targets/x86_64-linux/include/thrust/for_each.h:277\u001b[m\u001b[K,\n",
            "                 from \u001b[01m\u001b[K/usr/local/cuda/bin/../targets/x86_64-linux/include/thrust/system/detail/generic/transform.inl:19\u001b[m\u001b[K,\n",
            "                 from \u001b[01m\u001b[K/usr/local/cuda/bin/../targets/x86_64-linux/include/thrust/system/detail/generic/transform.h:104\u001b[m\u001b[K,\n",
            "                 from \u001b[01m\u001b[K/usr/local/cuda/bin/../targets/x86_64-linux/include/thrust/detail/transform.inl:27\u001b[m\u001b[K,\n",
            "                 from \u001b[01m\u001b[K/usr/local/cuda/bin/../targets/x86_64-linux/include/thrust/transform.h:721\u001b[m\u001b[K,\n",
            "                 from \u001b[01m\u001b[K/usr/local/cuda/bin/../targets/x86_64-linux/include/thrust/system/detail/generic/copy.inl:23\u001b[m\u001b[K,\n",
            "                 from \u001b[01m\u001b[K/usr/local/cuda/bin/../targets/x86_64-linux/include/thrust/system/detail/generic/copy.h:57\u001b[m\u001b[K,\n",
            "                 from \u001b[01m\u001b[K/usr/local/cuda/bin/../targets/x86_64-linux/include/thrust/detail/copy.inl:21\u001b[m\u001b[K,\n",
            "                 from \u001b[01m\u001b[K/usr/local/cuda/bin/../targets/x86_64-linux/include/thrust/detail/copy.h:90\u001b[m\u001b[K,\n",
            "                 from \u001b[01m\u001b[K/usr/local/cuda/bin/../targets/x86_64-linux/include/thrust/system/detail/sequential/merge.inl:19\u001b[m\u001b[K,\n",
            "                 from \u001b[01m\u001b[K/usr/local/cuda/bin/../targets/x86_64-linux/include/thrust/system/detail/sequential/merge.h:78\u001b[m\u001b[K,\n",
            "                 from \u001b[01m\u001b[K/usr/local/cuda/bin/../targets/x86_64-linux/include/thrust/system/cpp/detail/merge.h:22\u001b[m\u001b[K,\n",
            "                 from \u001b[01m\u001b[K/usr/local/cuda/bin/../targets/x86_64-linux/include/thrust/system/cpp/execution_policy.h:51\u001b[m\u001b[K,\n",
            "                 from \u001b[01m\u001b[K/usr/local/cuda/bin/../targets/x86_64-linux/include/thrust/execution_policy.h:32\u001b[m\u001b[K,\n",
            "                 from \u001b[01m\u001b[K/usr/local/cuda/bin/../targets/x86_64-linux/include/thrust/detail/get_iterator_value.h:20\u001b[m\u001b[K,\n",
            "                 from \u001b[01m\u001b[K/usr/local/cuda/bin/../targets/x86_64-linux/include/thrust/system/detail/generic/extrema.inl:25\u001b[m\u001b[K,\n",
            "                 from \u001b[01m\u001b[K/usr/local/cuda/bin/../targets/x86_64-linux/include/thrust/system/detail/generic/extrema.h:87\u001b[m\u001b[K,\n",
            "                 from \u001b[01m\u001b[K/usr/local/cuda/bin/../targets/x86_64-linux/include/thrust/detail/extrema.inl:22\u001b[m\u001b[K,\n",
            "                 from \u001b[01m\u001b[K/usr/local/cuda/bin/../targets/x86_64-linux/include/thrust/extrema.h:800\u001b[m\u001b[K,\n",
            "                 from \u001b[01m\u001b[Ksrc/cuda/cuda_kernel.cuh:4\u001b[m\u001b[K,\n",
            "                 from \u001b[01m\u001b[Ksrc/cuda/cuda_module.cuh:5\u001b[m\u001b[K,\n",
            "                 from \u001b[01m\u001b[Ksrc/cuda/cuda_module.cu:1\u001b[m\u001b[K:\n",
            "\u001b[01m\u001b[K/usr/local/cuda/bin/../targets/x86_64-linux/include/cub/util_cpp_dialect.cuh:142:13:\u001b[m\u001b[K \u001b[01;35m\u001b[Kwarning: \u001b[m\u001b[KCUB requires at least C++14. C++11 is deprecated but still supported. C++11 support will be removed in a future release. Define CUB_IGNORE_DEPRECATED_CPP_DIALECT to suppress this message.\n",
            "  142 |      CUB_COM\u001b[01;35m\u001b[KPILER_DEPRECATION_SOFT(C++14, C++11);\u001b[m\u001b[K\n",
            "      |             \u001b[01;35m\u001b[K^~~~~~~~~~~~~~~~~~~~~~~~~~~~~~~~~~~~~\u001b[m\u001b[K                                                                                                                                                        \n",
            "In file included from \u001b[01m\u001b[K/usr/local/cuda/bin/../targets/x86_64-linux/include/thrust/detail/config/config.h:27\u001b[m\u001b[K,\n",
            "                 from \u001b[01m\u001b[K/usr/local/cuda/bin/../targets/x86_64-linux/include/thrust/detail/config.h:23\u001b[m\u001b[K,\n",
            "                 from \u001b[01m\u001b[K/usr/local/cuda/bin/../targets/x86_64-linux/include/thrust/extrema.h:23\u001b[m\u001b[K,\n",
            "                 from \u001b[01m\u001b[Ksrc/cuda/cuda_kernel.cuh:4\u001b[m\u001b[K,\n",
            "                 from \u001b[01m\u001b[Ksrc/cuda/cuda_module.cuh:5\u001b[m\u001b[K,\n",
            "                 from \u001b[01m\u001b[Ksrc/cuda/cuda_module.cu:1\u001b[m\u001b[K:\n",
            "\u001b[01m\u001b[K/usr/local/cuda/bin/../targets/x86_64-linux/include/thrust/detail/config/cpp_dialect.h:131:13:\u001b[m\u001b[K \u001b[01;35m\u001b[Kwarning: \u001b[m\u001b[KThrust requires at least C++14. C++11 is deprecated but still supported. C++11 support will be removed in a future release. Define THRUST_IGNORE_DEPRECATED_CPP_DIALECT to suppress this message.\n",
            "  131 |      THRUST_\u001b[01;35m\u001b[KCOMPILER_DEPRECATION_SOFT(C++14, C++11);\u001b[m\u001b[K\n",
            "      |             \u001b[01;35m\u001b[K^~~~~~~~~~~~~~~~~~~~~~~~~~~~~~~~~~~~~~~~\u001b[m\u001b[K                                                                                                                                                           \n",
            "In file included from \u001b[01m\u001b[K/usr/local/cuda/bin/../targets/x86_64-linux/include/cub/util_arch.cuh:36\u001b[m\u001b[K,\n",
            "                 from \u001b[01m\u001b[K/usr/local/cuda/bin/../targets/x86_64-linux/include/cub/detail/device_synchronize.cuh:20\u001b[m\u001b[K,\n",
            "                 from \u001b[01m\u001b[K/usr/local/cuda/bin/../targets/x86_64-linux/include/thrust/system/cuda/detail/util.h:36\u001b[m\u001b[K,\n",
            "                 from \u001b[01m\u001b[K/usr/local/cuda/bin/../targets/x86_64-linux/include/thrust/system/cuda/detail/for_each.h:35\u001b[m\u001b[K,\n",
            "                 from \u001b[01m\u001b[K/usr/local/cuda/bin/../targets/x86_64-linux/include/thrust/system/detail/adl/for_each.h:42\u001b[m\u001b[K,\n",
            "                 from \u001b[01m\u001b[K/usr/local/cuda/bin/../targets/x86_64-linux/include/thrust/detail/for_each.inl:27\u001b[m\u001b[K,\n",
            "                 from \u001b[01m\u001b[K/usr/local/cuda/bin/../targets/x86_64-linux/include/thrust/for_each.h:277\u001b[m\u001b[K,\n",
            "                 from \u001b[01m\u001b[K/usr/local/cuda/bin/../targets/x86_64-linux/include/thrust/system/detail/generic/transform.inl:19\u001b[m\u001b[K,\n",
            "                 from \u001b[01m\u001b[K/usr/local/cuda/bin/../targets/x86_64-linux/include/thrust/system/detail/generic/transform.h:104\u001b[m\u001b[K,\n",
            "                 from \u001b[01m\u001b[K/usr/local/cuda/bin/../targets/x86_64-linux/include/thrust/detail/transform.inl:27\u001b[m\u001b[K,\n",
            "                 from \u001b[01m\u001b[K/usr/local/cuda/bin/../targets/x86_64-linux/include/thrust/transform.h:721\u001b[m\u001b[K,\n",
            "                 from \u001b[01m\u001b[K/usr/local/cuda/bin/../targets/x86_64-linux/include/thrust/system/detail/generic/copy.inl:23\u001b[m\u001b[K,\n",
            "                 from \u001b[01m\u001b[K/usr/local/cuda/bin/../targets/x86_64-linux/include/thrust/system/detail/generic/copy.h:57\u001b[m\u001b[K,\n",
            "                 from \u001b[01m\u001b[K/usr/local/cuda/bin/../targets/x86_64-linux/include/thrust/detail/copy.inl:21\u001b[m\u001b[K,\n",
            "                 from \u001b[01m\u001b[K/usr/local/cuda/bin/../targets/x86_64-linux/include/thrust/detail/copy.h:90\u001b[m\u001b[K,\n",
            "                 from \u001b[01m\u001b[K/usr/local/cuda/bin/../targets/x86_64-linux/include/thrust/system/detail/sequential/merge.inl:19\u001b[m\u001b[K,\n",
            "                 from \u001b[01m\u001b[K/usr/local/cuda/bin/../targets/x86_64-linux/include/thrust/system/detail/sequential/merge.h:78\u001b[m\u001b[K,\n",
            "                 from \u001b[01m\u001b[K/usr/local/cuda/bin/../targets/x86_64-linux/include/thrust/system/cpp/detail/merge.h:22\u001b[m\u001b[K,\n",
            "                 from \u001b[01m\u001b[K/usr/local/cuda/bin/../targets/x86_64-linux/include/thrust/system/cpp/execution_policy.h:51\u001b[m\u001b[K,\n",
            "                 from \u001b[01m\u001b[K/usr/local/cuda/bin/../targets/x86_64-linux/include/thrust/execution_policy.h:32\u001b[m\u001b[K,\n",
            "                 from \u001b[01m\u001b[K/usr/local/cuda/bin/../targets/x86_64-linux/include/thrust/detail/get_iterator_value.h:20\u001b[m\u001b[K,\n",
            "                 from \u001b[01m\u001b[K/usr/local/cuda/bin/../targets/x86_64-linux/include/thrust/system/detail/generic/extrema.inl:25\u001b[m\u001b[K,\n",
            "                 from \u001b[01m\u001b[K/usr/local/cuda/bin/../targets/x86_64-linux/include/thrust/system/detail/generic/extrema.h:87\u001b[m\u001b[K,\n",
            "                 from \u001b[01m\u001b[K/usr/local/cuda/bin/../targets/x86_64-linux/include/thrust/detail/extrema.inl:22\u001b[m\u001b[K,\n",
            "                 from \u001b[01m\u001b[K/usr/local/cuda/bin/../targets/x86_64-linux/include/thrust/extrema.h:800\u001b[m\u001b[K,\n",
            "                 from \u001b[01m\u001b[Ksrc/cuda/cuda_kernel.cuh:4\u001b[m\u001b[K,\n",
            "                 from \u001b[01m\u001b[Ksrc/cuda/cuda_module.cuh:5\u001b[m\u001b[K,\n",
            "                 from \u001b[01m\u001b[Ksrc/cuda/cuda_module.cu:1\u001b[m\u001b[K:\n",
            "\u001b[01m\u001b[K/usr/local/cuda/bin/../targets/x86_64-linux/include/cub/util_cpp_dialect.cuh:142:13:\u001b[m\u001b[K \u001b[01;35m\u001b[Kwarning: \u001b[m\u001b[KCUB requires at least C++14. C++11 is deprecated but still supported. C++11 support will be removed in a future release. Define CUB_IGNORE_DEPRECATED_CPP_DIALECT to suppress this message.\n",
            "  142 |      CUB_COM\u001b[01;35m\u001b[KPILER_DEPRECATION_SOFT(C++14, C++11);\u001b[m\u001b[K\n",
            "      |             \u001b[01;35m\u001b[K^~~~~~~~~~~~~~~~~~~~~~~~~~~~~~~~~~~~~\u001b[m\u001b[K                                                                                                                                                        \n",
            "nvcc -dc -O3 -std=c++11 -Isrc -Isrc/common -Isrc/seq -Isrc/cuda src/cuda/cuda_variable.cu -o src/cuda/cuda_variable.o\n",
            "In file included from \u001b[01m\u001b[K/usr/local/cuda/bin/../targets/x86_64-linux/include/thrust/detail/config/config.h:27\u001b[m\u001b[K,\n",
            "                 from \u001b[01m\u001b[K/usr/local/cuda/bin/../targets/x86_64-linux/include/thrust/detail/config.h:23\u001b[m\u001b[K,\n",
            "                 from \u001b[01m\u001b[K/usr/local/cuda/bin/../targets/x86_64-linux/include/thrust/extrema.h:23\u001b[m\u001b[K,\n",
            "                 from \u001b[01m\u001b[Ksrc/cuda/cuda_kernel.cuh:4\u001b[m\u001b[K,\n",
            "                 from \u001b[01m\u001b[Ksrc/cuda/cuda_variable.cuh:4\u001b[m\u001b[K,\n",
            "                 from \u001b[01m\u001b[Ksrc/cuda/cuda_variable.cu:1\u001b[m\u001b[K:\n",
            "\u001b[01m\u001b[K/usr/local/cuda/bin/../targets/x86_64-linux/include/thrust/detail/config/cpp_dialect.h:131:13:\u001b[m\u001b[K \u001b[01;35m\u001b[Kwarning: \u001b[m\u001b[KThrust requires at least C++14. C++11 is deprecated but still supported. C++11 support will be removed in a future release. Define THRUST_IGNORE_DEPRECATED_CPP_DIALECT to suppress this message.\n",
            "  131 |      THRUST_\u001b[01;35m\u001b[KCOMPILER_DEPRECATION_SOFT(C++14, C++11);\u001b[m\u001b[K\n",
            "      |             \u001b[01;35m\u001b[K^~~~~~~~~~~~~~~~~~~~~~~~~~~~~~~~~~~~~~~~\u001b[m\u001b[K                                                                                                                                                           \n",
            "In file included from \u001b[01m\u001b[K/usr/local/cuda/bin/../targets/x86_64-linux/include/cub/util_arch.cuh:36\u001b[m\u001b[K,\n",
            "                 from \u001b[01m\u001b[K/usr/local/cuda/bin/../targets/x86_64-linux/include/cub/detail/device_synchronize.cuh:20\u001b[m\u001b[K,\n",
            "                 from \u001b[01m\u001b[K/usr/local/cuda/bin/../targets/x86_64-linux/include/thrust/system/cuda/detail/util.h:36\u001b[m\u001b[K,\n",
            "                 from \u001b[01m\u001b[K/usr/local/cuda/bin/../targets/x86_64-linux/include/thrust/system/cuda/detail/for_each.h:35\u001b[m\u001b[K,\n",
            "                 from \u001b[01m\u001b[K/usr/local/cuda/bin/../targets/x86_64-linux/include/thrust/system/detail/adl/for_each.h:42\u001b[m\u001b[K,\n",
            "                 from \u001b[01m\u001b[K/usr/local/cuda/bin/../targets/x86_64-linux/include/thrust/detail/for_each.inl:27\u001b[m\u001b[K,\n",
            "                 from \u001b[01m\u001b[K/usr/local/cuda/bin/../targets/x86_64-linux/include/thrust/for_each.h:277\u001b[m\u001b[K,\n",
            "                 from \u001b[01m\u001b[K/usr/local/cuda/bin/../targets/x86_64-linux/include/thrust/system/detail/generic/transform.inl:19\u001b[m\u001b[K,\n",
            "                 from \u001b[01m\u001b[K/usr/local/cuda/bin/../targets/x86_64-linux/include/thrust/system/detail/generic/transform.h:104\u001b[m\u001b[K,\n",
            "                 from \u001b[01m\u001b[K/usr/local/cuda/bin/../targets/x86_64-linux/include/thrust/detail/transform.inl:27\u001b[m\u001b[K,\n",
            "                 from \u001b[01m\u001b[K/usr/local/cuda/bin/../targets/x86_64-linux/include/thrust/transform.h:721\u001b[m\u001b[K,\n",
            "                 from \u001b[01m\u001b[K/usr/local/cuda/bin/../targets/x86_64-linux/include/thrust/system/detail/generic/copy.inl:23\u001b[m\u001b[K,\n",
            "                 from \u001b[01m\u001b[K/usr/local/cuda/bin/../targets/x86_64-linux/include/thrust/system/detail/generic/copy.h:57\u001b[m\u001b[K,\n",
            "                 from \u001b[01m\u001b[K/usr/local/cuda/bin/../targets/x86_64-linux/include/thrust/detail/copy.inl:21\u001b[m\u001b[K,\n",
            "                 from \u001b[01m\u001b[K/usr/local/cuda/bin/../targets/x86_64-linux/include/thrust/detail/copy.h:90\u001b[m\u001b[K,\n",
            "                 from \u001b[01m\u001b[K/usr/local/cuda/bin/../targets/x86_64-linux/include/thrust/system/detail/sequential/merge.inl:19\u001b[m\u001b[K,\n",
            "                 from \u001b[01m\u001b[K/usr/local/cuda/bin/../targets/x86_64-linux/include/thrust/system/detail/sequential/merge.h:78\u001b[m\u001b[K,\n",
            "                 from \u001b[01m\u001b[K/usr/local/cuda/bin/../targets/x86_64-linux/include/thrust/system/cpp/detail/merge.h:22\u001b[m\u001b[K,\n",
            "                 from \u001b[01m\u001b[K/usr/local/cuda/bin/../targets/x86_64-linux/include/thrust/system/cpp/execution_policy.h:51\u001b[m\u001b[K,\n",
            "                 from \u001b[01m\u001b[K/usr/local/cuda/bin/../targets/x86_64-linux/include/thrust/execution_policy.h:32\u001b[m\u001b[K,\n",
            "                 from \u001b[01m\u001b[K/usr/local/cuda/bin/../targets/x86_64-linux/include/thrust/detail/get_iterator_value.h:20\u001b[m\u001b[K,\n",
            "                 from \u001b[01m\u001b[K/usr/local/cuda/bin/../targets/x86_64-linux/include/thrust/system/detail/generic/extrema.inl:25\u001b[m\u001b[K,\n",
            "                 from \u001b[01m\u001b[K/usr/local/cuda/bin/../targets/x86_64-linux/include/thrust/system/detail/generic/extrema.h:87\u001b[m\u001b[K,\n",
            "                 from \u001b[01m\u001b[K/usr/local/cuda/bin/../targets/x86_64-linux/include/thrust/detail/extrema.inl:22\u001b[m\u001b[K,\n",
            "                 from \u001b[01m\u001b[K/usr/local/cuda/bin/../targets/x86_64-linux/include/thrust/extrema.h:800\u001b[m\u001b[K,\n",
            "                 from \u001b[01m\u001b[Ksrc/cuda/cuda_kernel.cuh:4\u001b[m\u001b[K,\n",
            "                 from \u001b[01m\u001b[Ksrc/cuda/cuda_variable.cuh:4\u001b[m\u001b[K,\n",
            "                 from \u001b[01m\u001b[Ksrc/cuda/cuda_variable.cu:1\u001b[m\u001b[K:\n",
            "\u001b[01m\u001b[K/usr/local/cuda/bin/../targets/x86_64-linux/include/cub/util_cpp_dialect.cuh:142:13:\u001b[m\u001b[K \u001b[01;35m\u001b[Kwarning: \u001b[m\u001b[KCUB requires at least C++14. C++11 is deprecated but still supported. C++11 support will be removed in a future release. Define CUB_IGNORE_DEPRECATED_CPP_DIALECT to suppress this message.\n",
            "  142 |      CUB_COM\u001b[01;35m\u001b[KPILER_DEPRECATION_SOFT(C++14, C++11);\u001b[m\u001b[K\n",
            "      |             \u001b[01;35m\u001b[K^~~~~~~~~~~~~~~~~~~~~~~~~~~~~~~~~~~~~\u001b[m\u001b[K                                                                                                                                                        \n",
            "In file included from \u001b[01m\u001b[K/usr/local/cuda/bin/../targets/x86_64-linux/include/thrust/detail/config/config.h:27\u001b[m\u001b[K,\n",
            "                 from \u001b[01m\u001b[K/usr/local/cuda/bin/../targets/x86_64-linux/include/thrust/detail/config.h:23\u001b[m\u001b[K,\n",
            "                 from \u001b[01m\u001b[K/usr/local/cuda/bin/../targets/x86_64-linux/include/thrust/extrema.h:23\u001b[m\u001b[K,\n",
            "                 from \u001b[01m\u001b[Ksrc/cuda/cuda_kernel.cuh:4\u001b[m\u001b[K,\n",
            "                 from \u001b[01m\u001b[Ksrc/cuda/cuda_variable.cuh:4\u001b[m\u001b[K,\n",
            "                 from \u001b[01m\u001b[Ksrc/cuda/cuda_variable.cu:1\u001b[m\u001b[K:\n",
            "\u001b[01m\u001b[K/usr/local/cuda/bin/../targets/x86_64-linux/include/thrust/detail/config/cpp_dialect.h:131:13:\u001b[m\u001b[K \u001b[01;35m\u001b[Kwarning: \u001b[m\u001b[KThrust requires at least C++14. C++11 is deprecated but still supported. C++11 support will be removed in a future release. Define THRUST_IGNORE_DEPRECATED_CPP_DIALECT to suppress this message.\n",
            "  131 |      THRUST_\u001b[01;35m\u001b[KCOMPILER_DEPRECATION_SOFT(C++14, C++11);\u001b[m\u001b[K\n",
            "      |             \u001b[01;35m\u001b[K^~~~~~~~~~~~~~~~~~~~~~~~~~~~~~~~~~~~~~~~\u001b[m\u001b[K                                                                                                                                                           \n",
            "In file included from \u001b[01m\u001b[K/usr/local/cuda/bin/../targets/x86_64-linux/include/cub/util_arch.cuh:36\u001b[m\u001b[K,\n",
            "                 from \u001b[01m\u001b[K/usr/local/cuda/bin/../targets/x86_64-linux/include/cub/detail/device_synchronize.cuh:20\u001b[m\u001b[K,\n",
            "                 from \u001b[01m\u001b[K/usr/local/cuda/bin/../targets/x86_64-linux/include/thrust/system/cuda/detail/util.h:36\u001b[m\u001b[K,\n",
            "                 from \u001b[01m\u001b[K/usr/local/cuda/bin/../targets/x86_64-linux/include/thrust/system/cuda/detail/for_each.h:35\u001b[m\u001b[K,\n",
            "                 from \u001b[01m\u001b[K/usr/local/cuda/bin/../targets/x86_64-linux/include/thrust/system/detail/adl/for_each.h:42\u001b[m\u001b[K,\n",
            "                 from \u001b[01m\u001b[K/usr/local/cuda/bin/../targets/x86_64-linux/include/thrust/detail/for_each.inl:27\u001b[m\u001b[K,\n",
            "                 from \u001b[01m\u001b[K/usr/local/cuda/bin/../targets/x86_64-linux/include/thrust/for_each.h:277\u001b[m\u001b[K,\n",
            "                 from \u001b[01m\u001b[K/usr/local/cuda/bin/../targets/x86_64-linux/include/thrust/system/detail/generic/transform.inl:19\u001b[m\u001b[K,\n",
            "                 from \u001b[01m\u001b[K/usr/local/cuda/bin/../targets/x86_64-linux/include/thrust/system/detail/generic/transform.h:104\u001b[m\u001b[K,\n",
            "                 from \u001b[01m\u001b[K/usr/local/cuda/bin/../targets/x86_64-linux/include/thrust/detail/transform.inl:27\u001b[m\u001b[K,\n",
            "                 from \u001b[01m\u001b[K/usr/local/cuda/bin/../targets/x86_64-linux/include/thrust/transform.h:721\u001b[m\u001b[K,\n",
            "                 from \u001b[01m\u001b[K/usr/local/cuda/bin/../targets/x86_64-linux/include/thrust/system/detail/generic/copy.inl:23\u001b[m\u001b[K,\n",
            "                 from \u001b[01m\u001b[K/usr/local/cuda/bin/../targets/x86_64-linux/include/thrust/system/detail/generic/copy.h:57\u001b[m\u001b[K,\n",
            "                 from \u001b[01m\u001b[K/usr/local/cuda/bin/../targets/x86_64-linux/include/thrust/detail/copy.inl:21\u001b[m\u001b[K,\n",
            "                 from \u001b[01m\u001b[K/usr/local/cuda/bin/../targets/x86_64-linux/include/thrust/detail/copy.h:90\u001b[m\u001b[K,\n",
            "                 from \u001b[01m\u001b[K/usr/local/cuda/bin/../targets/x86_64-linux/include/thrust/system/detail/sequential/merge.inl:19\u001b[m\u001b[K,\n",
            "                 from \u001b[01m\u001b[K/usr/local/cuda/bin/../targets/x86_64-linux/include/thrust/system/detail/sequential/merge.h:78\u001b[m\u001b[K,\n",
            "                 from \u001b[01m\u001b[K/usr/local/cuda/bin/../targets/x86_64-linux/include/thrust/system/cpp/detail/merge.h:22\u001b[m\u001b[K,\n",
            "                 from \u001b[01m\u001b[K/usr/local/cuda/bin/../targets/x86_64-linux/include/thrust/system/cpp/execution_policy.h:51\u001b[m\u001b[K,\n",
            "                 from \u001b[01m\u001b[K/usr/local/cuda/bin/../targets/x86_64-linux/include/thrust/execution_policy.h:32\u001b[m\u001b[K,\n",
            "                 from \u001b[01m\u001b[K/usr/local/cuda/bin/../targets/x86_64-linux/include/thrust/detail/get_iterator_value.h:20\u001b[m\u001b[K,\n",
            "                 from \u001b[01m\u001b[K/usr/local/cuda/bin/../targets/x86_64-linux/include/thrust/system/detail/generic/extrema.inl:25\u001b[m\u001b[K,\n",
            "                 from \u001b[01m\u001b[K/usr/local/cuda/bin/../targets/x86_64-linux/include/thrust/system/detail/generic/extrema.h:87\u001b[m\u001b[K,\n",
            "                 from \u001b[01m\u001b[K/usr/local/cuda/bin/../targets/x86_64-linux/include/thrust/detail/extrema.inl:22\u001b[m\u001b[K,\n",
            "                 from \u001b[01m\u001b[K/usr/local/cuda/bin/../targets/x86_64-linux/include/thrust/extrema.h:800\u001b[m\u001b[K,\n",
            "                 from \u001b[01m\u001b[Ksrc/cuda/cuda_kernel.cuh:4\u001b[m\u001b[K,\n",
            "                 from \u001b[01m\u001b[Ksrc/cuda/cuda_variable.cuh:4\u001b[m\u001b[K,\n",
            "                 from \u001b[01m\u001b[Ksrc/cuda/cuda_variable.cu:1\u001b[m\u001b[K:\n",
            "\u001b[01m\u001b[K/usr/local/cuda/bin/../targets/x86_64-linux/include/cub/util_cpp_dialect.cuh:142:13:\u001b[m\u001b[K \u001b[01;35m\u001b[Kwarning: \u001b[m\u001b[KCUB requires at least C++14. C++11 is deprecated but still supported. C++11 support will be removed in a future release. Define CUB_IGNORE_DEPRECATED_CPP_DIALECT to suppress this message.\n",
            "  142 |      CUB_COM\u001b[01;35m\u001b[KPILER_DEPRECATION_SOFT(C++14, C++11);\u001b[m\u001b[K\n",
            "      |             \u001b[01;35m\u001b[K^~~~~~~~~~~~~~~~~~~~~~~~~~~~~~~~~~~~~\u001b[m\u001b[K                                                                                                                                                        \n",
            "nvcc -O3 -std=c++11 -Isrc -Isrc/common -Isrc/seq -Isrc/cuda src/cudamain.o src/common/parser.o src/common/timer.o src/seq/gcn.o src/seq/module.o src/seq/optim.o src/seq/rand.o src/seq/sparse.o src/seq/variable.o src/cuda/cuda_gcn.o src/cuda/cuda_kernel.o src/cuda/cuda_module.o src/cuda/cuda_variable.o -o cuda_gcn\n"
          ]
        }
      ]
    },
    {
      "cell_type": "code",
      "source": [
        "!ls\n",
        "!tar -xvzf data.tgz\n",
        "\n",
        "!./cuda_gcn cora"
      ],
      "metadata": {
        "colab": {
          "base_uri": "https://localhost:8080/"
        },
        "id": "JfkmSYHOE5yF",
        "outputId": "491f032b-2750-447a-e067-f85b552eee87"
      },
      "execution_count": 15,
      "outputs": [
        {
          "output_type": "stream",
          "name": "stdout",
          "text": [
            "cuda_gcn  sample_data\n",
            "tar (child): data.tgz: Cannot open: No such file or directory\n",
            "tar (child): Error is not recoverable: exiting now\n",
            "tar: Child returned status 2\n",
            "tar: Error is not recoverable: exiting now\n",
            "/bin/bash: ./cuda_gcn: Is a directory\n"
          ]
        }
      ]
    }
  ]
}